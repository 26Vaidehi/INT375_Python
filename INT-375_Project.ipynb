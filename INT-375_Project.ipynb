{
 "cells": [
  {
   "metadata": {},
   "cell_type": "markdown",
   "source": "## **Data Cleaning and Exploratory Analysis of Global Superstore Sales for Business Optimization**",
   "id": "24ea6d9ce24c13be"
  },
  {
   "metadata": {},
   "cell_type": "markdown",
   "source": [
    "### **PROBLEM STATEMENT**\n",
    "The Global Superstore Sales Dataset contains transaction records of a multinational retail chain over several years. However, the dataset includes missing values, duplicate records, and incorrect data, making data cleaning a crucial step before analysis. The goal is to clean and preprocess the data by handling null values, detecting and removing duplicates, and correcting inconsistencies. Once cleaned, the dataset will be used to analyze sales performance, customer trends, and profit patterns across different regions. Through exploratory data analysis and visualizations, we will uncover sales trends, customer buying behavior, and high-profit product categories. Finally, using statistical techniques, we will evaluate factors influencing profitability and delivery efficiency to optimize business strategies."
   ],
   "id": "5ca71094de0a9a70"
  },
  {
   "metadata": {},
   "cell_type": "markdown",
   "source": [
    "### **OBJECTIVES**\n",
    "1. **Data Cleaning & Preprocessing:**\n",
    "   - Identify and handle missing values appropriately.\n",
    "   - Detect and remove duplicate records.\n",
    "   - Correct inconsistencies in data (e.g., formatting errors, invalid entries).\n",
    "   - Convert data types to their appropriate formats for analysis.\n",
    "\n",
    "2. **Exploratory Data Analysis (EDA):**\n",
    "   - Analyze sales performance across different regions and time periods.\n",
    "   - Identify customer buying trends and segment customers based on purchasing behavior.\n",
    "   - Determine high-revenue and high-profit product categories.\n",
    "   - Visualize trends using charts and graphs for better insights.\n",
    "\n",
    "3. **Statistical Analysis:**\n",
    "   - Evaluate key factors affecting profitability and sales trends.\n",
    "   - Analyze delivery efficiency and its impact on customer satisfaction.\n",
    "   - Identify relationships between different attributes (e.g., sales vs. discount impact on profit).\n",
    "\n",
    "4. **Business Insights & Recommendations:**\n",
    "   - Provide data-driven recommendations to optimize pricing, inventory, and supply chain.\n",
    "   - Suggest strategies to improve customer retention and sales growth.\n",
    "   - Highlight areas of inefficiency and propose solutions for operational improvements.\n",
    "\n"
   ],
   "id": "9d727af4bf9118b1"
  },
  {
   "metadata": {},
   "cell_type": "markdown",
   "source": "#### **1) Importing relevant libraries**",
   "id": "8f63aed9a754d68a"
  },
  {
   "metadata": {
    "jupyter": {
     "is_executing": true
    }
   },
   "cell_type": "code",
   "outputs": [],
   "execution_count": null,
   "source": [
    "import numpy as np\n",
    "import pandas as pd\n",
    "import matplotlib.pyplot as plt\n",
    "import seaborn as sns\n"
   ],
   "id": "e0b1fd29a91f807c"
  },
  {
   "metadata": {},
   "cell_type": "markdown",
   "source": "#### **2) LOADING OUR 'global_superstore_sales_messy' DATASET**\n",
   "id": "114b9adcdaded4d2"
  },
  {
   "metadata": {
    "ExecuteTime": {
     "end_time": "2025-04-01T17:48:52.014147Z",
     "start_time": "2025-04-01T17:48:51.932782Z"
    }
   },
   "cell_type": "code",
   "source": [
    "df = pd.read_csv(r'C:\\Users\\HP\\OneDrive\\Desktop\\Python_datasets\\INT-375\\global_superstore_sales_messy.csv')\n",
    "print(df.head())  # Printing the dataset"
   ],
   "id": "2f20450be0f926f9",
   "outputs": [
    {
     "name": "stdout",
     "output_type": "stream",
     "text": [
      "  Order ID  Order Date   Ship Date       Ship Mode Customer ID Customer Name  \\\n",
      "0  ORD1000  2020-01-01  2020-01-08  Standard Class    CUST5000   Alice Smith   \n",
      "1  ORD1001  2020-01-02  2020-01-06        Same Day    CUST5001      John Doe   \n",
      "2  ORD1002  2020-01-03  2020-01-11        Same Day    CUST5002  Emma Johnson   \n",
      "3  ORD1003  2020-01-04  2020-01-09  Standard Class    CUST5003  Robert Brown   \n",
      "4  ORD1004  2020-01-05  2020-01-12  Standard Class    CUST5004   Alice Smith   \n",
      "\n",
      "       Segment   Region  Country         Category Sub-Category  \\\n",
      "0     Consumer     West  Germany        Furniture       Phones   \n",
      "1    Corporate    South      USA       Technology       Phones   \n",
      "2  Home Office  Central       UK  Office Supplies  Accessories   \n",
      "3     Consumer    South   Mexico       Technology       Tables   \n",
      "4    Corporate    South      USA       Technology      Binders   \n",
      "\n",
      "      Product Name  Quantity  Discount   Sales  Profit Delivery Status  \n",
      "0    Standing Desk         8      0.25  491.06  137.20           Early  \n",
      "1  Notebook Binder         9      0.02  112.79   37.24         Delayed  \n",
      "2  Notebook Binder         8      0.39  220.95    2.38         Delayed  \n",
      "3  Notebook Binder         1      0.28  488.58  -78.06         Delayed  \n",
      "4       Smartphone         7      0.36  209.56  -41.67         On Time  \n"
     ]
    }
   ],
   "execution_count": 11
  },
  {
   "metadata": {},
   "cell_type": "markdown",
   "source": " #### **3) EXPLORING THE DATASET**",
   "id": "196c748ca11d01"
  },
  {
   "metadata": {
    "ExecuteTime": {
     "end_time": "2025-03-31T15:29:26.808694Z",
     "start_time": "2025-03-31T15:29:26.765918Z"
    }
   },
   "cell_type": "code",
   "source": [
    "print(\"Information of the Dataset:\",df.info())\n",
    "print(\"Description of the Dataset:\", df.describe())"
   ],
   "id": "6d5b0f4f53a4ccaf",
   "outputs": [
    {
     "name": "stdout",
     "output_type": "stream",
     "text": [
      "<class 'pandas.core.frame.DataFrame'>\n",
      "RangeIndex: 4700 entries, 0 to 4699\n",
      "Data columns (total 17 columns):\n",
      " #   Column           Non-Null Count  Dtype  \n",
      "---  ------           --------------  -----  \n",
      " 0   Order ID         4700 non-null   object \n",
      " 1   Order Date       4700 non-null   object \n",
      " 2   Ship Date        4700 non-null   object \n",
      " 3   Ship Mode        4700 non-null   object \n",
      " 4   Customer ID      4700 non-null   object \n",
      " 5   Customer Name    4589 non-null   object \n",
      " 6   Segment          4700 non-null   object \n",
      " 7   Region           4700 non-null   object \n",
      " 8   Country          4700 non-null   object \n",
      " 9   Category         4700 non-null   object \n",
      " 10  Sub-Category     4700 non-null   object \n",
      " 11  Product Name     4700 non-null   object \n",
      " 12  Quantity         4700 non-null   int64  \n",
      " 13  Discount         4700 non-null   float64\n",
      " 14  Sales            4597 non-null   float64\n",
      " 15  Profit           4599 non-null   float64\n",
      " 16  Delivery Status  4700 non-null   object \n",
      "dtypes: float64(3), int64(1), object(13)\n",
      "memory usage: 624.3+ KB\n",
      "Information of the Dataset: None\n",
      "Description of the Dataset:           Quantity     Discount        Sales       Profit\n",
      "count  4700.000000  4700.000000  4597.000000  4599.000000\n",
      "mean      5.088511     0.246919   245.816722    24.832535\n",
      "std       2.569037     0.144873   154.648042    69.604865\n",
      "min       1.000000     0.000000  -495.840000  -225.190000\n",
      "25%       3.000000     0.120000   127.820000   -17.120000\n",
      "50%       5.000000     0.250000   247.640000    13.500000\n",
      "75%       7.000000     0.370000   371.540000    64.970000\n",
      "max       9.000000     0.500000   499.950000   246.100000\n"
     ]
    }
   ],
   "execution_count": 5
  },
  {
   "metadata": {},
   "cell_type": "markdown",
   "source": "#### **4) HANDLING THE MISSING VALUES**",
   "id": "1e0547a59631e824"
  },
  {
   "metadata": {
    "ExecuteTime": {
     "end_time": "2025-03-31T16:10:03.423197Z",
     "start_time": "2025-03-31T16:10:03.383346Z"
    }
   },
   "cell_type": "code",
   "source": [
    "print(\"Missing Values Before Cleaning:\\n\", df.isnull().sum())\n",
    "\n",
    "df[\"Sales\"] = df[\"Sales\"].fillna(df[\"Sales\"].mean())         # Fill Sales with mean\n",
    "df[\"Profit\"] = df[\"Profit\"].fillna(df[\"Profit\"].median())       # Fill Profit with median\n",
    "df[\"Customer Name\"] = df[\"Customer Name\"].fillna(df[\"Customer Name\"].mode()[0])     # Fill Name with mode\n",
    "\n",
    "df.replace(\"\", pd.NA, inplace=True)          # Convert empty strings to NaN\n",
    "df.dropna(inplace=True)          # Remove remaining NaNs\n",
    "\n",
    "print(\"Missing Values After Cleaning:\\n\", df.isnull().sum())\n",
    "\n",
    "print(df)           ## Printing the cleaned dataset\n"
   ],
   "id": "475a5d90a0604ba1",
   "outputs": [
    {
     "name": "stdout",
     "output_type": "stream",
     "text": [
      "Missing Values Before Cleaning:\n",
      " Order ID             0\n",
      "Order Date           0\n",
      "Ship Date            0\n",
      "Ship Mode            0\n",
      "Customer ID          0\n",
      "Customer Name      111\n",
      "Segment              0\n",
      "Region               0\n",
      "Country              0\n",
      "Category             0\n",
      "Sub-Category         0\n",
      "Product Name         0\n",
      "Quantity             0\n",
      "Discount             0\n",
      "Sales              103\n",
      "Profit             101\n",
      "Delivery Status      0\n",
      "dtype: int64\n",
      "Missing Values After Cleaning:\n",
      " Order ID           0\n",
      "Order Date         0\n",
      "Ship Date          0\n",
      "Ship Mode          0\n",
      "Customer ID        0\n",
      "Customer Name      0\n",
      "Segment            0\n",
      "Region             0\n",
      "Country            0\n",
      "Category           0\n",
      "Sub-Category       0\n",
      "Product Name       0\n",
      "Quantity           0\n",
      "Discount           0\n",
      "Sales              0\n",
      "Profit             0\n",
      "Delivery Status    0\n",
      "dtype: int64\n",
      "     Order ID  Order Date   Ship Date       Ship Mode Customer ID  \\\n",
      "0     ORD1000  2020-01-01  2020-01-08  Standard Class    CUST5000   \n",
      "1     ORD1001  2020-01-02  2020-01-06        Same Day    CUST5001   \n",
      "2     ORD1002  2020-01-03  2020-01-11        Same Day    CUST5002   \n",
      "3     ORD1003  2020-01-04  2020-01-09  Standard Class    CUST5003   \n",
      "4     ORD1004  2020-01-05  2020-01-12  Standard Class    CUST5004   \n",
      "...       ...         ...         ...             ...         ...   \n",
      "4695  ORD1878  2022-05-28  2022-05-30    Second Class    CUST5878   \n",
      "4696  ORD2605  2024-05-24  2024-05-27     First Class    CUST6605   \n",
      "4697  ORD3107  2025-10-08  2025-10-15    Second Class    CUST7107   \n",
      "4698  ORD2779  2024-11-14  2024-11-20    Second Class    CUST6779   \n",
      "4699  ORD2289  2023-07-13  2023-07-15     First Class    CUST6289   \n",
      "\n",
      "     Customer Name      Segment   Region  Country         Category  \\\n",
      "0      Alice Smith     Consumer     West  Germany        Furniture   \n",
      "1         John Doe    Corporate    South      USA       Technology   \n",
      "2     Emma Johnson  Home Office  Central       UK  Office Supplies   \n",
      "3     Robert Brown     Consumer    South   Mexico       Technology   \n",
      "4      Alice Smith    Corporate    South      USA       Technology   \n",
      "...            ...          ...      ...      ...              ...   \n",
      "4695  Robert Brown     Consumer     East  Germany  Office Supplies   \n",
      "4696  Robert Brown    Corporate     West   Canada       Technology   \n",
      "4697  Robert Brown     Consumer     East      USA        Furniture   \n",
      "4698   Alice Smith     Consumer  Central  Germany        Furniture   \n",
      "4699      John Doe  Home Office     West  Germany        Furniture   \n",
      "\n",
      "     Sub-Category     Product Name  Quantity  Discount   Sales  Profit  \\\n",
      "0          Phones    Standing Desk         8      0.25  491.06  137.20   \n",
      "1          Phones  Notebook Binder         9      0.02  112.79   37.24   \n",
      "2     Accessories  Notebook Binder         8      0.39  220.95    2.38   \n",
      "3          Tables  Notebook Binder         1      0.28  488.58  -78.06   \n",
      "4         Binders       Smartphone         7      0.36  209.56  -41.67   \n",
      "...           ...              ...       ...       ...     ...     ...   \n",
      "4695       Phones       Smartphone         6      0.40  459.05  120.69   \n",
      "4696       Phones        USB Drive         8      0.49   41.96   11.37   \n",
      "4697       Phones  Notebook Binder         1      0.23  372.04  166.09   \n",
      "4698       Phones     Office Chair         3      0.47  148.47  -38.48   \n",
      "4699       Chairs    Standing Desk         9      0.29  302.04  -72.18   \n",
      "\n",
      "     Delivery Status  \n",
      "0              Early  \n",
      "1            Delayed  \n",
      "2            Delayed  \n",
      "3            Delayed  \n",
      "4            On Time  \n",
      "...              ...  \n",
      "4695         Delayed  \n",
      "4696         Delayed  \n",
      "4697           Early  \n",
      "4698         Delayed  \n",
      "4699         On Time  \n",
      "\n",
      "[4700 rows x 17 columns]\n"
     ]
    }
   ],
   "execution_count": 17
  },
  {
   "metadata": {},
   "cell_type": "markdown",
   "source": "#### **5) PERFORMING SOME BASIC OPERATIONS**",
   "id": "d1160f3e873ef885"
  },
  {
   "metadata": {
    "ExecuteTime": {
     "end_time": "2025-03-31T16:10:11.970223Z",
     "start_time": "2025-03-31T16:10:11.941454Z"
    }
   },
   "cell_type": "code",
   "source": [
    "print(\"First 20 rows of the dataset : \",df.head(20))\n",
    "print(\"Last 20 rows of the dataset : \",df.tail(20))\n",
    "print(\"Shape of the dataset : \",df.shape)\n",
    "print(\"Datatype of the dataset : \",df.dtypes)\n"
   ],
   "id": "bbdb23041debd82f",
   "outputs": [
    {
     "name": "stdout",
     "output_type": "stream",
     "text": [
      "First 20 rows of the dataset :     Order ID  Order Date   Ship Date       Ship Mode Customer ID Customer Name  \\\n",
      "0   ORD1000  2020-01-01  2020-01-08  Standard Class    CUST5000   Alice Smith   \n",
      "1   ORD1001  2020-01-02  2020-01-06        Same Day    CUST5001      John Doe   \n",
      "2   ORD1002  2020-01-03  2020-01-11        Same Day    CUST5002  Emma Johnson   \n",
      "3   ORD1003  2020-01-04  2020-01-09  Standard Class    CUST5003  Robert Brown   \n",
      "4   ORD1004  2020-01-05  2020-01-12  Standard Class    CUST5004   Alice Smith   \n",
      "5   ORD1005  2020-01-06  2020-01-09  Standard Class    CUST5005      John Doe   \n",
      "6   ORD1006  2020-01-07  2020-01-14     First Class    CUST5006  Emma Johnson   \n",
      "7   ORD1007  2020-01-08  2020-01-16     First Class    CUST5007      John Doe   \n",
      "8   ORD1008  2020-01-09  2020-01-14        Same Day    CUST5008   Alice Smith   \n",
      "9   ORD1009  2020-01-10  2020-01-14     First Class    CUST5009      John Doe   \n",
      "10  ORD1010  2020-01-11  2020-01-19    Second Class    CUST5010  Emma Johnson   \n",
      "11  ORD1011  2020-01-12  2020-01-20        Same Day    CUST5011   Alice Smith   \n",
      "12  ORD1012  2020-01-13  2020-01-16     First Class    CUST5012  Emma Johnson   \n",
      "13  ORD1013  2020-01-14  2020-01-20  Standard Class    CUST5013      John Doe   \n",
      "14  ORD1014  2020-01-15  2020-01-20    Second Class    CUST5014  Robert Brown   \n",
      "15  ORD1015  2020-01-16  2020-01-18  Standard Class    CUST5015  Robert Brown   \n",
      "16  ORD1016  2020-01-17  2020-01-25        Same Day    CUST5016  Robert Brown   \n",
      "17  ORD1017  2020-01-18  2020-01-24  Standard Class    CUST5017  Robert Brown   \n",
      "18  ORD1018  2020-01-19  2020-01-21     First Class    CUST5018  Emma Johnson   \n",
      "19  ORD1019  2020-01-20  2020-01-25     First Class    CUST5019      John Doe   \n",
      "\n",
      "        Segment   Region  Country         Category Sub-Category  \\\n",
      "0      Consumer     West  Germany        Furniture       Phones   \n",
      "1     Corporate    South      USA       Technology       Phones   \n",
      "2   Home Office  Central       UK  Office Supplies  Accessories   \n",
      "3      Consumer    South   Mexico       Technology       Tables   \n",
      "4     Corporate    South      USA       Technology      Binders   \n",
      "5      Consumer  Central   Canada       Technology       Phones   \n",
      "6      Consumer    South   Mexico        Furniture  Accessories   \n",
      "7   Home Office     East   Mexico  Office Supplies      Binders   \n",
      "8      Consumer     East   Canada       Technology       Tables   \n",
      "9      Consumer    South   Canada        Furniture      Binders   \n",
      "10  Home Office     West   Canada       Technology       Tables   \n",
      "11  Home Office    South      USA        Furniture       Phones   \n",
      "12  Home Office     West      USA  Office Supplies       Chairs   \n",
      "13  Home Office    South      USA  Office Supplies       Chairs   \n",
      "14    Corporate     East  Germany  Office Supplies      Storage   \n",
      "15    Corporate     West   Mexico  Office Supplies      Storage   \n",
      "16    Corporate     East      USA       Technology       Phones   \n",
      "17     Consumer    South  Germany        Furniture      Binders   \n",
      "18  Home Office  Central   Mexico  Office Supplies       Tables   \n",
      "19  Home Office     West      USA       Technology       Chairs   \n",
      "\n",
      "       Product Name  Quantity  Discount   Sales  Profit Delivery Status  \n",
      "0     Standing Desk         8      0.25  491.06  137.20           Early  \n",
      "1   Notebook Binder         9      0.02  112.79   37.24         Delayed  \n",
      "2   Notebook Binder         8      0.39  220.95    2.38         Delayed  \n",
      "3   Notebook Binder         1      0.28  488.58  -78.06         Delayed  \n",
      "4        Smartphone         7      0.36  209.56  -41.67         On Time  \n",
      "5         USB Drive         9      0.06  181.09   84.14           Early  \n",
      "6      Office Chair         5      0.36   63.84   16.62         On Time  \n",
      "7   Notebook Binder         2      0.21  379.11  -76.28           Early  \n",
      "8      Office Chair         8      0.40  229.03    4.07           Early  \n",
      "9   Notebook Binder         9      0.30  322.94  139.61         On Time  \n",
      "10    Standing Desk         7      0.18  259.83   53.92         On Time  \n",
      "11     Office Chair         5      0.10   95.52  -17.41         Delayed  \n",
      "12       Smartphone         8      0.41   96.42   26.97           Early  \n",
      "13  Notebook Binder         6      0.28  470.48   -8.09           Early  \n",
      "14        USB Drive         4      0.49  445.86   40.85           Early  \n",
      "15    Standing Desk         1      0.19  309.21    9.91         Delayed  \n",
      "16  Notebook Binder         6      0.34   10.61    2.98           Early  \n",
      "17     Office Chair         8      0.31  222.31  -27.94           Early  \n",
      "18  Notebook Binder         3      0.32  269.91    2.89         On Time  \n",
      "19    Standing Desk         7      0.37  230.22   68.06         On Time  \n",
      "Last 20 rows of the dataset :       Order ID  Order Date   Ship Date       Ship Mode Customer ID  \\\n",
      "4680  ORD4813  2030-06-10  2030-06-15        Same Day    CUST8813   \n",
      "4681  ORD3978  2028-02-26  2028-03-03    Second Class    CUST7978   \n",
      "4682  ORD3676  2027-04-30  2027-05-09        Same Day    CUST7676   \n",
      "4683  ORD3381  2026-07-09  2026-07-11    Second Class    CUST7381   \n",
      "4684  ORD2077  2022-12-13  2022-12-22        Same Day    CUST6077   \n",
      "4685  ORD1042  2020-02-12  2020-02-16    Second Class    CUST5042   \n",
      "4686  ORD4020  2028-04-08  2028-04-12     First Class    CUST8020   \n",
      "4687  ORD2560  2024-04-09  2024-04-18     First Class    CUST6560   \n",
      "4688  ORD5001  2030-12-15  2030-12-20  Standard Class    CUST9001   \n",
      "4689  ORD5187  2031-06-19  2031-06-24  Standard Class    CUST9187   \n",
      "4690  ORD4682  2030-01-30  2030-02-04     First Class    CUST8682   \n",
      "4691  ORD2635  2024-06-23  2024-06-30     First Class    CUST6635   \n",
      "4692  ORD1123  2020-05-03  2020-05-09     First Class    CUST5123   \n",
      "4693  ORD1923  2022-07-12  2022-07-17    Second Class    CUST5923   \n",
      "4694  ORD3558  2027-01-02  2027-01-07        Same Day    CUST7558   \n",
      "4695  ORD1878  2022-05-28  2022-05-30    Second Class    CUST5878   \n",
      "4696  ORD2605  2024-05-24  2024-05-27     First Class    CUST6605   \n",
      "4697  ORD3107  2025-10-08  2025-10-15    Second Class    CUST7107   \n",
      "4698  ORD2779  2024-11-14  2024-11-20    Second Class    CUST6779   \n",
      "4699  ORD2289  2023-07-13  2023-07-15     First Class    CUST6289   \n",
      "\n",
      "     Customer Name      Segment   Region  Country         Category  \\\n",
      "4680  Robert Brown     Consumer     East      USA       Technology   \n",
      "4681  Emma Johnson  Home Office     East  Germany  Office Supplies   \n",
      "4682      John Doe  Home Office  Central   Mexico  Office Supplies   \n",
      "4683  Robert Brown     Consumer  Central   Canada  Office Supplies   \n",
      "4684      John Doe  Home Office  Central       UK        Furniture   \n",
      "4685  Robert Brown     Consumer     East   Mexico  Office Supplies   \n",
      "4686  Emma Johnson    Corporate  Central  Germany  Office Supplies   \n",
      "4687      John Doe    Corporate  Central   Mexico        Furniture   \n",
      "4688   Alice Smith     Consumer     West   Mexico        Furniture   \n",
      "4689  Emma Johnson    Corporate     West       UK       Technology   \n",
      "4690  Emma Johnson     Consumer    South   Mexico       Technology   \n",
      "4691  Robert Brown  Home Office     East   Canada       Technology   \n",
      "4692  Emma Johnson    Corporate  Central  Germany  Office Supplies   \n",
      "4693   Alice Smith  Home Office     East  Germany       Technology   \n",
      "4694  Robert Brown  Home Office     West       UK  Office Supplies   \n",
      "4695  Robert Brown     Consumer     East  Germany  Office Supplies   \n",
      "4696  Robert Brown    Corporate     West   Canada       Technology   \n",
      "4697  Robert Brown     Consumer     East      USA        Furniture   \n",
      "4698   Alice Smith     Consumer  Central  Germany        Furniture   \n",
      "4699      John Doe  Home Office     West  Germany        Furniture   \n",
      "\n",
      "     Sub-Category     Product Name  Quantity  Discount   Sales  Profit  \\\n",
      "4680      Storage        USB Drive         2      0.24  252.40  114.30   \n",
      "4681       Chairs    Standing Desk         6      0.13  361.71  -27.20   \n",
      "4682       Phones     Office Chair         6      0.36  249.24  -38.76   \n",
      "4683       Phones  Notebook Binder         9      0.04  344.92   66.09   \n",
      "4684       Chairs       Smartphone         8      0.29  438.23   19.84   \n",
      "4685       Phones        USB Drive         3      0.39  258.76  105.80   \n",
      "4686      Storage        USB Drive         6      0.05  478.16 -126.92   \n",
      "4687       Tables    Standing Desk         6      0.32  294.07  101.39   \n",
      "4688      Binders        USB Drive         3      0.07  214.71    4.04   \n",
      "4689  Accessories    Standing Desk         5      0.02  180.68   52.43   \n",
      "4690      Storage     Office Chair         7      0.24  251.09  111.27   \n",
      "4691       Tables        USB Drive         2      0.42  233.54   82.38   \n",
      "4692       Chairs        USB Drive         6      0.05  451.55   50.74   \n",
      "4693      Storage    Standing Desk         2      0.22  229.58  108.81   \n",
      "4694  Accessories       Smartphone         1      0.11  134.28   16.40   \n",
      "4695       Phones       Smartphone         6      0.40  459.05  120.69   \n",
      "4696       Phones        USB Drive         8      0.49   41.96   11.37   \n",
      "4697       Phones  Notebook Binder         1      0.23  372.04  166.09   \n",
      "4698       Phones     Office Chair         3      0.47  148.47  -38.48   \n",
      "4699       Chairs    Standing Desk         9      0.29  302.04  -72.18   \n",
      "\n",
      "     Delivery Status  \n",
      "4680           Early  \n",
      "4681           Early  \n",
      "4682         Delayed  \n",
      "4683         Delayed  \n",
      "4684           Early  \n",
      "4685         Delayed  \n",
      "4686         On Time  \n",
      "4687           Early  \n",
      "4688         On Time  \n",
      "4689           Early  \n",
      "4690         Delayed  \n",
      "4691           Early  \n",
      "4692         On Time  \n",
      "4693         Delayed  \n",
      "4694         Delayed  \n",
      "4695         Delayed  \n",
      "4696         Delayed  \n",
      "4697           Early  \n",
      "4698         Delayed  \n",
      "4699         On Time  \n",
      "Shape of the dataset :  (4700, 17)\n",
      "Datatype of the dataset :  Order ID            object\n",
      "Order Date          object\n",
      "Ship Date           object\n",
      "Ship Mode           object\n",
      "Customer ID         object\n",
      "Customer Name       object\n",
      "Segment             object\n",
      "Region              object\n",
      "Country             object\n",
      "Category            object\n",
      "Sub-Category        object\n",
      "Product Name        object\n",
      "Quantity             int64\n",
      "Discount           float64\n",
      "Sales              float64\n",
      "Profit             float64\n",
      "Delivery Status     object\n",
      "dtype: object\n"
     ]
    }
   ],
   "execution_count": 18
  },
  {
   "metadata": {},
   "cell_type": "markdown",
   "source": "#### **6) Handling Duplicates**",
   "id": "1730e447b35b7b13"
  },
  {
   "metadata": {
    "ExecuteTime": {
     "end_time": "2025-04-01T17:48:55.749278Z",
     "start_time": "2025-04-01T17:48:55.712636Z"
    }
   },
   "cell_type": "code",
   "source": [
    "print(f\"Duplicate rows: {df.duplicated().sum()}\")           # Check for duplicates\n",
    "df.drop_duplicates(inplace=True)                # Remove duplicates"
   ],
   "id": "f20dc66044b5c214",
   "outputs": [
    {
     "name": "stdout",
     "output_type": "stream",
     "text": [
      "Duplicate rows: 196\n"
     ]
    }
   ],
   "execution_count": 12
  },
  {
   "metadata": {},
   "cell_type": "markdown",
   "source": "#### **7) Converting datatypes**",
   "id": "59c1a2dd58d1cf83"
  },
  {
   "metadata": {
    "ExecuteTime": {
     "end_time": "2025-04-01T17:48:57.781821Z",
     "start_time": "2025-04-01T17:48:57.768918Z"
    }
   },
   "cell_type": "code",
   "source": [
    "import pandas as pd\n",
    "df[\"Order Date\"] = pd.to_datetime(df[\"Order Date\"])         # Convert Order Date column to datetime"
   ],
   "id": "e3a208dc19521f8f",
   "outputs": [],
   "execution_count": 13
  },
  {
   "metadata": {},
   "cell_type": "markdown",
   "source": "#### **8) Fixing inconsistencies**",
   "id": "49dec8d1b93d0d17"
  },
  {
   "metadata": {
    "ExecuteTime": {
     "end_time": "2025-04-01T17:49:01.033806Z",
     "start_time": "2025-04-01T17:49:01.021884Z"
    }
   },
   "cell_type": "code",
   "source": [
    "print(\"Unique Categories : \",df[\"Category\"].unique())              # Check unique values\n",
    "df[\"Category\"] = df[\"Category\"].str.strip().str.title()             # Fix inconsistent category names"
   ],
   "id": "9972a243ae334681",
   "outputs": [
    {
     "name": "stdout",
     "output_type": "stream",
     "text": [
      "Unique Categories :  ['Furniture' 'Technology' 'Office Supplies']\n"
     ]
    }
   ],
   "execution_count": 14
  },
  {
   "metadata": {},
   "cell_type": "markdown",
   "source": [
    "\n",
    "#### **9) Final Cleaned Data**"
   ],
   "id": "7df88c5ed62d0281"
  },
  {
   "metadata": {
    "ExecuteTime": {
     "end_time": "2025-04-01T17:49:03.895626Z",
     "start_time": "2025-04-01T17:49:03.835744Z"
    }
   },
   "cell_type": "code",
   "source": [
    "df.to_csv(\"Cleaned_Data.csv\", index=False)\n",
    "print(\"Saved Successfully\")"
   ],
   "id": "eba19637452913a",
   "outputs": [
    {
     "name": "stdout",
     "output_type": "stream",
     "text": [
      "Saved Successfully\n"
     ]
    }
   ],
   "execution_count": 15
  },
  {
   "metadata": {},
   "cell_type": "code",
   "outputs": [],
   "execution_count": null,
   "source": "",
   "id": "33d6c6a471522e80"
  }
 ],
 "metadata": {
  "kernelspec": {
   "display_name": "Python 3",
   "language": "python",
   "name": "python3"
  },
  "language_info": {
   "codemirror_mode": {
    "name": "ipython",
    "version": 2
   },
   "file_extension": ".py",
   "mimetype": "text/x-python",
   "name": "python",
   "nbconvert_exporter": "python",
   "pygments_lexer": "ipython2",
   "version": "2.7.6"
  }
 },
 "nbformat": 4,
 "nbformat_minor": 5
}
